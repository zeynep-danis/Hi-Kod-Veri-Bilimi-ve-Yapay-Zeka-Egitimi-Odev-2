{
 "cells": [
  {
   "cell_type": "markdown",
   "id": "409f0f4a",
   "metadata": {},
   "source": [
    "**Ödev-1:** Kullanıcıdan maaş bilgisini istenir ve bu bilgiye göre maaşından ne kadar vergi kesileceğini hesaplanır. Kullanıcının geliri;\n",
    "\n",
    "1. 10000 ve altındaysa maaşından %5 kesinti olur.\n",
    "2. 25000 ve altındaysa maaşından %10 kesinti olur.\n",
    "3. 45000 ve altındaysa maaşından %25 kesinti olur.\n",
    "4. Diğer koşullarda %30 kesinti olur.\n",
    "\n",
    "Bu durumlara göre kullanıcının yeni maaşı yazdırılır."
   ]
  },
  {
   "cell_type": "code",
   "execution_count": 1,
   "id": "5246e510",
   "metadata": {},
   "outputs": [
    {
     "name": "stdin",
     "output_type": "stream",
     "text": [
      "Maaşınızı giriniz: 20000\n"
     ]
    },
    {
     "name": "stdout",
     "output_type": "stream",
     "text": [
      "18000.0\n"
     ]
    }
   ],
   "source": [
    "maaş = int(input(\"Maaşınızı giriniz:\"))\n",
    "if maaş <= 10000:\n",
    "    print(str(maaş-((maaş*5)/100)))\n",
    "elif maaş <= 25000:\n",
    "    print(str(maaş-((maaş*10)/100)))\n",
    "elif maaş <= 45000:\n",
    "    print(str(maaş-((maaş*25)/100)))\n",
    "else:\n",
    "    print(str(maaş-((maaş*30)/100)))"
   ]
  },
  {
   "cell_type": "markdown",
   "id": "f5fe8798",
   "metadata": {},
   "source": [
    "**Ödev-2:** Kullanıcıdan kullanıcı adı ve şifre oluşturmasını istenir. Şifrenin uzunluğu altı haneye ulaşmışsa hesabınız oluşturuldu mesajı alınır, altı haneden azsa altı haneli şifre oluşturması gerektiğinin mesajı alınır. *(Sadece koşul kullanılması yeterli.)*"
   ]
  },
  {
   "cell_type": "code",
   "execution_count": 5,
   "id": "6acffe57",
   "metadata": {},
   "outputs": [
    {
     "name": "stdin",
     "output_type": "stream",
     "text": [
      "Lütfen kullanıcı adınızı giriniz: zeynepdanis\n",
      "Lütfen şifrenizi giriniz: 1234\n"
     ]
    },
    {
     "name": "stdout",
     "output_type": "stream",
     "text": [
      "Lütfen altı haneli bir şifre oluşturunuz!\n"
     ]
    }
   ],
   "source": [
    "kullanıcı_adı = str(input(\"Lütfen kullanıcı adınızı giriniz:\"))\n",
    "şifre = str(input(\"Lütfen şifrenizi giriniz:\"))\n",
    "if len(şifre) >= 6:\n",
    "    print(\"Tebrikler! Hesabınız oluşturuldu.\")\n",
    "elif len(şifre) < 6:\n",
    "    print(\"Lütfen altı haneli bir şifre oluşturunuz!\")"
   ]
  },
  {
   "cell_type": "markdown",
   "id": "aaccf11a",
   "metadata": {},
   "source": [
    "**Ödev-3:** Bir önceki örnek geliştirilir.\n",
    "\n",
    "1. Kullanıcı girdiği şifre 5 ve 10 hane arasında olmak zorunda.\n",
    "2. Eğer bu koşula uyuyorsa \"Hesabınız oluşturuldu.\" mesajı alır.\n",
    "3. Koşulu sağlamıyorsa \"Lütfen girdiniz şifre 5 haneden az 10 haneden fazla olmasın!\" uyarısı alır.\n",
    "4. Bunu oluştururken kullanıcı istediğimiz şartlarda şifre oluşturana kadar sormaya devam eder"
   ]
  },
  {
   "cell_type": "code",
   "execution_count": 9,
   "id": "039e50dc",
   "metadata": {},
   "outputs": [
    {
     "name": "stdin",
     "output_type": "stream",
     "text": [
      "Lütfen kullanıcı adınızı giriniz: zeynepdanis\n",
      "Lütfen şifrenizi giriniz: 123\n"
     ]
    },
    {
     "name": "stdout",
     "output_type": "stream",
     "text": [
      "Lütfen girdiğiniz şifre 5 haneden az 10 haneden fazla olmasın!\n"
     ]
    },
    {
     "name": "stdin",
     "output_type": "stream",
     "text": [
      "Lütfen şifrenizi giriniz: 1234\n"
     ]
    },
    {
     "name": "stdout",
     "output_type": "stream",
     "text": [
      "Lütfen girdiğiniz şifre 5 haneden az 10 haneden fazla olmasın!\n"
     ]
    },
    {
     "name": "stdin",
     "output_type": "stream",
     "text": [
      "Lütfen şifrenizi giriniz: 123456789741\n"
     ]
    },
    {
     "name": "stdout",
     "output_type": "stream",
     "text": [
      "Lütfen girdiğiniz şifre 5 haneden az 10 haneden fazla olmasın!\n"
     ]
    },
    {
     "name": "stdin",
     "output_type": "stream",
     "text": [
      "Lütfen şifrenizi giriniz: 1234567\n"
     ]
    },
    {
     "name": "stdout",
     "output_type": "stream",
     "text": [
      "Tebrikler! Hesabınız oluşturuldu.\n"
     ]
    }
   ],
   "source": [
    "kullanıcı_adı = str(input(\"Lütfen kullanıcı adınızı giriniz:\"))\n",
    "şifre = str(input(\"Lütfen şifrenizi giriniz:\"))\n",
    "while True:\n",
    "    if 5 <= len(şifre) <= 10:\n",
    "        print(\"Tebrikler! Hesabınız oluşturuldu.\")\n",
    "        break\n",
    "    else:\n",
    "        print(\"Lütfen girdiğiniz şifre 5 haneden az 10 haneden fazla olmasın!\")\n",
    "        şifre = str(input(\"Lütfen şifrenizi giriniz:\"))"
   ]
  },
  {
   "cell_type": "markdown",
   "id": "8ba81863",
   "metadata": {},
   "source": [
    "**Ödev-4:** Kullanıcıdan isim ve şifre isteyeceğiz ve şifre girişi için üç hak verilir.\n",
    "\n",
    "1. Eğer önceden tanımlı şifre ile kullanıcıdan gelen şifre aynıysa \"Giriş yapıldı.\" yazar.\n",
    "2. Şifre girişi yanlışsa \"Yanlış şifre girildi!\" uyarısı verilsin ve üç yanlış denemede program biter.\n",
    "3. Tercihe göre kalan hak bilgisi verilir."
   ]
  },
  {
   "cell_type": "code",
   "execution_count": 45,
   "id": "44f87b63-adbc-461b-b6f8-12bfa1eba7a9",
   "metadata": {},
   "outputs": [
    {
     "name": "stdin",
     "output_type": "stream",
     "text": [
      "Lütfen kullanıcı adınızı giriniz: zeynepdanis\n",
      "Lütfen şifrenizi giriniz: 36974\n"
     ]
    },
    {
     "name": "stdout",
     "output_type": "stream",
     "text": [
      "Yanlış şifre girildi!\n"
     ]
    },
    {
     "name": "stdin",
     "output_type": "stream",
     "text": [
      "Lütfen şifrenizi giriniz: 658\n"
     ]
    },
    {
     "name": "stdout",
     "output_type": "stream",
     "text": [
      "Yanlış şifre girildi!\n"
     ]
    },
    {
     "name": "stdin",
     "output_type": "stream",
     "text": [
      "Lütfen şifrenizi giriniz: 12345\n"
     ]
    },
    {
     "name": "stdout",
     "output_type": "stream",
     "text": [
      "Giriş yapıldı.\n"
     ]
    }
   ],
   "source": [
    "şifre1 = \"12345\"\n",
    "kullanıcı_adı = str(input(\"Lütfen kullanıcı adınızı giriniz:\"))\n",
    "for şifre in range(3):\n",
    "    şifre = str(input(\"Lütfen şifrenizi giriniz:\"))\n",
    "    \n",
    "    if şifre == şifre1:\n",
    "        print(\"Giriş yapıldı.\")\n",
    "        break\n",
    "    elif şifre != şifre1:\n",
    "        print(\"Yanlış şifre girildi!\")"
   ]
  }
 ],
 "metadata": {
  "kernelspec": {
   "display_name": "Python [conda env:base] *",
   "language": "python",
   "name": "conda-base-py"
  },
  "language_info": {
   "codemirror_mode": {
    "name": "ipython",
    "version": 3
   },
   "file_extension": ".py",
   "mimetype": "text/x-python",
   "name": "python",
   "nbconvert_exporter": "python",
   "pygments_lexer": "ipython3",
   "version": "3.12.7"
  }
 },
 "nbformat": 4,
 "nbformat_minor": 5
}
